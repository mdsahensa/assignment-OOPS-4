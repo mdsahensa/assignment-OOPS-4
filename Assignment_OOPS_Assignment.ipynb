{
  "nbformat": 4,
  "nbformat_minor": 0,
  "metadata": {
    "colab": {
      "provenance": []
    },
    "kernelspec": {
      "name": "python3",
      "display_name": "Python 3"
    },
    "language_info": {
      "name": "python"
    }
  },
  "cells": [
    {
      "cell_type": "markdown",
      "source": [
        "#THEORY QUESTION"
      ],
      "metadata": {
        "id": "s8RGE3Tf31qu"
      }
    },
    {
      "cell_type": "markdown",
      "source": [
        "**1.What is Object-Oriented Programming (OOP)?**\n",
        "- Object-Oriented Programming (OOP) is a way of writing programs using objects."
      ],
      "metadata": {
        "id": "sCYZUyG-31ne"
      }
    },
    {
      "cell_type": "markdown",
      "source": [
        "**2.What is a class in OOP?**\n",
        " - A class in Object-Oriented Programming (OOP) is like a blueprint or template for creating objects."
      ],
      "metadata": {
        "id": "ED5Xz9qt31kP"
      }
    },
    {
      "cell_type": "markdown",
      "source": [
        "**3.What is an object in OOP.**\n",
        "- An object is a real-world entity created from a class. If a class is a blueprint, then an object is the actual product built from that blueprint.\n"
      ],
      "metadata": {
        "id": "tm-zGLph5DWq"
      }
    },
    {
      "cell_type": "markdown",
      "source": [
        "**4.What is the difference between abstraction and encapsulation.**\n",
        "- Both Abstraction and Encapsulation are used to hide details, but in different ways."
      ],
      "metadata": {
        "id": "OomIcgxu5DUC"
      }
    },
    {
      "cell_type": "markdown",
      "source": [
        "**5.What are dunder methods in Python.**\n",
        "- Dunder methods (short for \"Double Underscore Methods\") are special functions in Python that start and end with double underscores (__).\n",
        "\n",
        "They are also called magic methods because Python automatically calls them when performing certain actions."
      ],
      "metadata": {
        "id": "Ye_3Otyc5DRS"
      }
    },
    {
      "cell_type": "markdown",
      "source": [
        "6.**Explain the concept of inheritance in OOP.**\n",
        "- Inheritance is a concept in Object-Oriented Programming (OOP) where one class inherits the properties and methods of another class."
      ],
      "metadata": {
        "id": "qGMutTjy5DOa"
      }
    },
    {
      "cell_type": "markdown",
      "source": [
        "7.**What is polymorphism in OOP.**\n",
        "- Polymorphism means \"many forms.\" In Object-Oriented Programming (OOP), polymorphism allows different objects to use the same method in different ways.\n",
        "\n"
      ],
      "metadata": {
        "id": "kgEtb7iK6nf3"
      }
    },
    {
      "cell_type": "markdown",
      "source": [
        "8.**How is encapsulation achieved in Python.**\n",
        "- Encapsulation is a concept in Object-Oriented Programming (OOP) that hides the data inside a class and controls access to it.\n",
        "\n"
      ],
      "metadata": {
        "id": "QkunmZlz6ndF"
      }
    },
    {
      "cell_type": "markdown",
      "source": [
        "**9.What is a constructor in Python.**\n",
        "- A constructor is a special method in Python that runs automatically when an object is created. It is used to initialize (set up) object properties.\n",
        "\n",
        "In Python, the constructor method is called __init__()."
      ],
      "metadata": {
        "id": "d1EzyHqJ6nXu"
      }
    },
    {
      "cell_type": "markdown",
      "source": [
        "**10.What are class and static methods in Python.**\n",
        "- In Python, methods inside a class can be of three types:\n",
        "1️⃣ Instance Methods (Regular methods that work with objects)\n",
        "2️⃣ Class Methods (@classmethod – Works with the class itself)\n",
        "3️⃣ Static Methods (@staticmethod – Independent of both class and objects)\n",
        "\n"
      ],
      "metadata": {
        "id": "k4qhNPmy7Ssk"
      }
    },
    {
      "cell_type": "markdown",
      "source": [
        "**11.What is method overloading in Python.**\n",
        "- Method Overloading in Python (Simple Explanation)\n",
        "Method Overloading means having multiple methods with the same name but different parameters in a class."
      ],
      "metadata": {
        "id": "yGPHb3Fq7SpM"
      }
    },
    {
      "cell_type": "markdown",
      "source": [
        "12.**What is method overriding in OOP.**\n",
        "- Method Overriding means a child class (subclass) provides a different implementation for a method that already exists in the parent class (superclass)."
      ],
      "metadata": {
        "id": "RzejnVtJ7_IB"
      }
    },
    {
      "cell_type": "markdown",
      "source": [
        "**13.What is a property decorator in Python.**\n",
        "- A property decorator (@property) in Python is used to control access to class attributes by defining getter, setter, and deleter methods in an elegant way."
      ],
      "metadata": {
        "id": "_gAr0Prz7_Fg"
      }
    },
    {
      "cell_type": "markdown",
      "source": [
        "**14.Why is polymorphism important in OOP.**\n",
        "- Polymorphism means \"many forms\", allowing the same function or method to work differently for different objects."
      ],
      "metadata": {
        "id": "rWDgrWT77_C4"
      }
    },
    {
      "cell_type": "markdown",
      "source": [
        "**15.What is an abstract class in Python.**\n",
        " - An abstract class in Python is a class that cannot be instantiated (you can’t create objects from it).\n",
        "It serves as a blueprint for other classes, ensuring that subclasses must implement certain methods."
      ],
      "metadata": {
        "id": "YUWmntvk7_AJ"
      }
    },
    {
      "cell_type": "markdown",
      "source": [
        "**16.What are the advantages of OOP.**\n",
        "- Object-Oriented Programming (OOP) is a structured way of coding using classes and objects. It makes code more reusable, scalable, secure, and easier to maintain."
      ],
      "metadata": {
        "id": "F-YE-xoY8xHn"
      }
    },
    {
      "cell_type": "markdown",
      "source": [
        "**17.What is the difference between a class variable and an instance variable.**\n",
        "- In Object-Oriented Programming (OOP), variables store data inside a class. These variables can be classified into two types:\n",
        "# Class Variable:\n",
        "- Defined inside the class, but outside methods.\n",
        "-  Shared by all objects of the class.\n",
        "-  Changes affect all instances of the class.\n",
        "-  Accessed using ClassName.variable or self.variable.\n",
        "-  Example: Car.wheels = 4 (Same for all cars).\n",
        "\n",
        "# Instance Variable:\n",
        "-  Defined inside the constructor (__init__).\n",
        "-  Unique for each object of the class.\n",
        "-  Changes affect only that specific object.\n",
        "-  Accessed using self.variable.\n",
        "-  Example: self.color = \"Red\" (Each car can have a different color).\n",
        "\n"
      ],
      "metadata": {
        "id": "JSkV848i82kB"
      }
    },
    {
      "cell_type": "markdown",
      "source": [
        "**18.What is multiple inheritance in Python.**\n",
        "- Multiple Inheritance is a feature in Object-Oriented Programming (OOP) where a class can inherit from more than one parent class. This means a child class can have properties and methods from multiple base classes."
      ],
      "metadata": {
        "id": "RPCkYYIv8xDi"
      }
    },
    {
      "cell_type": "markdown",
      "source": [
        "**19.Explain the purpose of ‘’__str__’ and ‘__repr__’ ‘ methods in Python.**\n",
        "\n",
        "\n",
        "\n"
      ],
      "metadata": {
        "id": "OL1qcnvE8xA3"
      }
    },
    {
      "cell_type": "markdown",
      "source": [
        "| Feature         | `__str__` (User-Friendly)           | `__repr__` (Developer-Friendly)  |\n",
        "|----------------|--------------------------------|--------------------------------|\n",
        "| **Purpose**    | Readable, user-friendly output | Technical, detailed representation |\n",
        "| **Used For?**  | Displaying objects to users   | Debugging, logging, recreating objects |\n",
        "| **Called By?** | `print(obj)`, `str(obj)`      | `repr(obj)`, debugging tools (`console`, `repr(obj)`) |\n",
        "| **Example Output** | `\"Car: Tesla, Color: Red\"` | `\"Car('Tesla', 'Red')\"` |\n"
      ],
      "metadata": {
        "id": "Xc6f3CNZ_8mn"
      }
    },
    {
      "cell_type": "markdown",
      "source": [
        "20.**What is the significance of the ‘super()’ function in Python.**\n",
        "- The super() function in Python is used to call methods from a parent class (superclass) inside a child class. It helps in code reuse and avoids manually referring to the parent class."
      ],
      "metadata": {
        "id": "cAQMiozKAEIW"
      }
    },
    {
      "cell_type": "markdown",
      "source": [
        "21.**What is the significance of the __del__ method in Python.**\n",
        "- The __del__ method in Python is a destructor that is automatically called when an object is deleted or goes out of scope. It helps in cleaning up resources like closing files, releasing memory, or disconnecting from databases."
      ],
      "metadata": {
        "id": "f8nX3sHoAh7x"
      }
    },
    {
      "cell_type": "markdown",
      "source": [
        "22.**What is the difference between @staticmethod and @classmethod in Python.**"
      ],
      "metadata": {
        "id": "HqCA7AUqAh5H"
      }
    },
    {
      "cell_type": "markdown",
      "source": [
        " - Difference Between @staticmethod and @classmethod\n",
        "\n",
        "| Feature           | `@staticmethod` | `@classmethod` |\n",
        "|------------------|----------------|---------------|\n",
        "| **Definition** | A method that does not access instance (`self`) or class (`cls`) variables | A method that works with the class (`cls`) rather than instances |\n",
        "| **Takes `self`?** | ❌ No | ❌ No |\n",
        "| **Takes `cls`?** | ❌ No | ✅ Yes |\n",
        "| **Can modify class attributes?** | ❌ No | ✅ Yes |\n",
        "| **Can be called on an instance?** | ✅ Yes | ✅ Yes |\n",
        "| **Can be called on the class?** | ✅ Yes | ✅ Yes |\n",
        "| **Use case** | Utility/helper functions that don't need instance/class data | Factory methods, modifying class-level attributes |\n"
      ],
      "metadata": {
        "id": "kZ2uRDmUAhzt"
      }
    },
    {
      "cell_type": "markdown",
      "source": [
        "23.**How does polymorphism work in Python with inheritance.**\n",
        "- Polymorphism in Python allows different classes to have methods with the same name but different behaviors. It enables code reusability and flexibility, especially when working with inheritance."
      ],
      "metadata": {
        "id": "lui6YhabBbCx"
      }
    },
    {
      "cell_type": "markdown",
      "source": [
        "24.**What is method chaining in Python OOP.**\n",
        "- Method chaining is a technique in Python Object-Oriented Programming (OOP) where multiple methods are called on the same object in a single line, improving code readability and efficiency.\n",
        "\n"
      ],
      "metadata": {
        "id": "PELY7ablBbAK"
      }
    },
    {
      "cell_type": "markdown",
      "source": [
        "25.**What is the purpose of the __call__ method in Python?**\n",
        "- The __call__ method in Python makes an instance of a class behave like a function. This means you can call an object using parentheses (), just like a regular function."
      ],
      "metadata": {
        "id": "8CoNMmZQBa9a"
      }
    },
    {
      "cell_type": "markdown",
      "source": [
        "#PRACTICAL QUESTIONS"
      ],
      "metadata": {
        "id": "jnrOW4qYCTCH"
      }
    },
    {
      "cell_type": "markdown",
      "source": [
        "1.**Create a parent class Animal with a method speak() that prints a generic message. Create a child class Dog\n",
        "that overrides the speak() method to print \"Bark!\".**\n"
      ],
      "metadata": {
        "id": "k8ks8FvhCS_L"
      }
    },
    {
      "cell_type": "code",
      "source": [
        "class Animal:\n",
        "  def speak(self):\n",
        "    print(\"generic msg\")\n",
        "\n",
        "class Dog(Animal):\n",
        "  def speak(self):\n",
        "    print(\"bark\")\n",
        "\n"
      ],
      "metadata": {
        "id": "k2BdTJviClE_"
      },
      "execution_count": null,
      "outputs": []
    },
    {
      "cell_type": "code",
      "source": [
        "obj=Dog()"
      ],
      "metadata": {
        "id": "63Liq9zIBSBD"
      },
      "execution_count": null,
      "outputs": []
    },
    {
      "cell_type": "code",
      "source": [
        "obj.speak()"
      ],
      "metadata": {
        "colab": {
          "base_uri": "https://localhost:8080/"
        },
        "id": "CyHaBh-wEywk",
        "outputId": "28b2bb35-e360-4f81-f5d1-9774dacfb695"
      },
      "execution_count": null,
      "outputs": [
        {
          "output_type": "stream",
          "name": "stdout",
          "text": [
            "bark\n"
          ]
        }
      ]
    },
    {
      "cell_type": "markdown",
      "source": [
        "**2. Write a program to create an abstract class Shape with a method area(). Derive classes Circle and Rectangle\n",
        "from it and implement the area() method in both.**"
      ],
      "metadata": {
        "id": "mnSAGgrxFlPr"
      }
    },
    {
      "cell_type": "code",
      "source": [
        "from abc import ABC, abstractmethod\n",
        "import math\n",
        "\n",
        "# Abstract class\n",
        "class Shape(ABC):\n",
        "    @abstractmethod\n",
        "    def area(self):\n",
        "        pass  # Must be implemented in child classes\n",
        "\n",
        "# Circle class\n",
        "class Circle(Shape):\n",
        "    def __init__(self, radius):\n",
        "        self.radius = radius\n",
        "\n",
        "    def area(self):\n",
        "        return math.pi * self.radius ** 2\n",
        "\n",
        "# Rectangle class\n",
        "class Rectangle(Shape):\n",
        "    def __init__(self, width, height):\n",
        "        self.width = width\n",
        "        self.height = height\n",
        "\n",
        "    def area(self):\n",
        "        return self.width * self.height\n",
        "\n",
        "# Creating objects\n",
        "circle = Circle(5)\n",
        "rectangle = Rectangle(4, 6)\n",
        "\n",
        "# Printing areas\n",
        "print(f\"Circle Area: {circle.area():.2f}\")      # Output: Circle Area: 78.54\n",
        "print(f\"Rectangle Area: {rectangle.area()}\")   # Output: Rectangle Area: 24\n"
      ],
      "metadata": {
        "colab": {
          "base_uri": "https://localhost:8080/"
        },
        "id": "lnMrgiX2IMUc",
        "outputId": "12be0cd6-1a1c-43b5-c431-a9d5f4206014"
      },
      "execution_count": null,
      "outputs": [
        {
          "output_type": "stream",
          "name": "stdout",
          "text": [
            "Circle Area: 78.54\n",
            "Rectangle Area: 24\n"
          ]
        }
      ]
    },
    {
      "cell_type": "markdown",
      "source": [
        "**3.Implement a multi-level inheritance scenario where a class Vehicle has an attribute type. Derive a class Car\n",
        "and further derive a class ElectricCar that adds a battery attributet**"
      ],
      "metadata": {
        "id": "BM4KZTcKI2ki"
      }
    },
    {
      "cell_type": "code",
      "source": [
        "# Base class\n",
        "class Vehicle:\n",
        "    def __init__(self, vehicle_type):\n",
        "        self.vehicle_type = vehicle_type\n",
        "\n",
        "    def show_type(self):\n",
        "        print(f\"Vehicle Type: {self.vehicle_type}\")\n",
        "\n",
        "# Derived class\n",
        "class Car(Vehicle):\n",
        "    def __init__(self, brand, model, vehicle_type=\"Car\"):\n",
        "        super().__init__(vehicle_type)  # Calling the parent class constructor\n",
        "        self.brand = brand\n",
        "        self.model = model\n",
        "\n",
        "    def show_details(self):\n",
        "        print(f\"Car Brand: {self.brand}, Model: {self.model}\")\n",
        "\n",
        "# Further Derived class\n",
        "class ElectricCar(Car):\n",
        "    def __init__(self, brand, model, battery_capacity):\n",
        "        super().__init__(brand, model)  # Calling the Car class constructor\n",
        "        self.battery_capacity = battery_capacity\n",
        "\n",
        "    def show_battery(self):\n",
        "        print(f\"Battery Capacity: {self.battery_capacity} kWh\")\n",
        "\n",
        "# Creating an instance of ElectricCar\n",
        "tesla = ElectricCar(\"Tesla\", \"Model S\", 100)\n",
        "\n",
        "# Displaying details\n",
        "tesla.show_type()       # From Vehicle class\n",
        "tesla.show_details()    # From Car class\n",
        "tesla.show_battery()    # From ElectricCar class\n"
      ],
      "metadata": {
        "colab": {
          "base_uri": "https://localhost:8080/"
        },
        "id": "bdPpmgHsJZUZ",
        "outputId": "b94c25c4-fa39-4dd8-dfd5-86fbbaa2eb96"
      },
      "execution_count": null,
      "outputs": [
        {
          "output_type": "stream",
          "name": "stdout",
          "text": [
            "Vehicle Type: Car\n",
            "Car Brand: Tesla, Model: Model S\n",
            "Battery Capacity: 100 kWh\n"
          ]
        }
      ]
    },
    {
      "cell_type": "markdown",
      "source": [
        "4.**Demonstrate polymorphism by creating a base class Bird with a method fly(). Create two derived classes\n",
        "Sparrow and Penguin that override the fly() method.**"
      ],
      "metadata": {
        "id": "igoQrWbMJfJo"
      }
    },
    {
      "cell_type": "code",
      "source": [
        "# Base class\n",
        "class Bird:\n",
        "    def fly(self):\n",
        "        print(\"Some birds can fly.\")\n",
        "\n",
        "# Derived class: Sparrow\n",
        "class Sparrow(Bird):\n",
        "    def fly(self):\n",
        "        print(\"Sparrow flies high in the sky!\")\n",
        "\n",
        "# Derived class: Penguin\n",
        "class Penguin(Bird):\n",
        "    def fly(self):\n",
        "        print(\"Penguins cannot fly, but they swim!\")\n",
        "\n",
        "# Function demonstrating polymorphism\n",
        "def show_flight(bird):\n",
        "    bird.fly()\n",
        "\n",
        "# Creating instances\n",
        "sparrow = Sparrow()\n",
        "penguin = Penguin()\n",
        "\n",
        "# Demonstrating polymorphism\n",
        "show_flight(sparrow)  # Output: Sparrow flies high in the sky!\n",
        "show_flight(penguin)  # Output: Penguins cannot fly, but they swim!\n"
      ],
      "metadata": {
        "colab": {
          "base_uri": "https://localhost:8080/"
        },
        "id": "jyALm7HqJdxH",
        "outputId": "109fb5f8-511a-4528-cbb8-3820d97befd9"
      },
      "execution_count": null,
      "outputs": [
        {
          "output_type": "stream",
          "name": "stdout",
          "text": [
            "Sparrow flies high in the sky!\n",
            "Penguins cannot fly, but they swim!\n"
          ]
        }
      ]
    },
    {
      "cell_type": "markdown",
      "source": [
        "5.**Write a program to demonstrate encapsulation by creating a class BankAccount with private attributes\n",
        "balance and methods to deposit, withdraw, and check balance**"
      ],
      "metadata": {
        "id": "G3taTtr2Jvhu"
      }
    },
    {
      "cell_type": "code",
      "source": [
        "class BankAccount:\n",
        "    def __init__(self, initial_balance=0):\n",
        "        # Private attribute to store the account balance\n",
        "        self.__balance = initial_balance\n",
        "\n",
        "    def deposit(self, amount):\n",
        "        # Deposit a positive amount into the account\n",
        "        if amount > 0:\n",
        "            self.__balance += amount\n",
        "            print(f\"Deposited: {amount}\")\n",
        "        else:\n",
        "            print(\"Deposit amount must be positive.\")\n",
        "\n",
        "    def withdraw(self, amount):\n",
        "        # Withdraw an amount if sufficient funds are available\n",
        "        if amount > self.__balance:\n",
        "            print(\"Insufficient funds!\")\n",
        "        elif amount <= 0:\n",
        "            print(\"Withdrawal amount must be positive.\")\n",
        "        else:\n",
        "            self.__balance -= amount\n",
        "            print(f\"Withdrew: {amount}\")\n",
        "\n",
        "    def check_balance(self):\n",
        "        # Return the current balance\n",
        "        return self.__balance\n",
        "\n",
        "# Creating an instance of BankAccount with an initial balance of 1000\n",
        "account = BankAccount(1000)\n",
        "\n",
        "# Checking initial balance\n",
        "print(\"Initial Balance:\", account.check_balance())\n",
        "\n",
        "# Depositing 500 into the account\n",
        "account.deposit(500)\n",
        "print(\"Balance after deposit:\", account.check_balance())\n",
        "\n",
        "# Withdrawing 200 from the account\n",
        "account.withdraw(200)\n",
        "print(\"Balance after withdrawal:\", account.check_balance())\n",
        "\n",
        "# Trying to directly access the private attribute (will result in an error if uncommented)\n",
        "# print(account.__balance)\n"
      ],
      "metadata": {
        "colab": {
          "base_uri": "https://localhost:8080/"
        },
        "id": "UKoKbH78JuR6",
        "outputId": "8b885e60-2358-4121-a1d6-87466164b517"
      },
      "execution_count": null,
      "outputs": [
        {
          "output_type": "stream",
          "name": "stdout",
          "text": [
            "Initial Balance: 1000\n",
            "Deposited: 500\n",
            "Balance after deposit: 1500\n",
            "Withdrew: 200\n",
            "Balance after withdrawal: 1300\n"
          ]
        }
      ]
    },
    {
      "cell_type": "markdown",
      "source": [
        "6. **Demonstrate runtime polymorphism using a method play() in a base class Instrument. Derive classes Guitar\n",
        "and Piano that implement their own version of play().**"
      ],
      "metadata": {
        "id": "_SELqCDxKLqu"
      }
    },
    {
      "cell_type": "code",
      "source": [
        "# Base class\n",
        "class Instrument:\n",
        "    def play(self):\n",
        "        print(\"Playing an instrument.\")\n",
        "\n",
        "# Derived class: Guitar\n",
        "class Guitar(Instrument):\n",
        "    def play(self):\n",
        "        print(\"Strumming the guitar!\")\n",
        "\n",
        "# Derived class: Piano\n",
        "class Piano(Instrument):\n",
        "    def play(self):\n",
        "        print(\"Playing the piano keys!\")\n",
        "\n",
        "# Function demonstrating runtime polymorphism\n",
        "def start_playing(instrument):\n",
        "    instrument.play()\n",
        "\n",
        "# Creating instances\n",
        "guitar = Guitar()\n",
        "piano = Piano()\n",
        "\n",
        "# Demonstrating polymorphism\n",
        "start_playing(guitar)  # Output: Strumming the guitar!\n",
        "start_playing(piano)   # Output: Playing the piano keys!\n"
      ],
      "metadata": {
        "colab": {
          "base_uri": "https://localhost:8080/"
        },
        "id": "o4wm4puBKCvU",
        "outputId": "700ccf07-c772-4d7e-f486-e1f162459ff8"
      },
      "execution_count": null,
      "outputs": [
        {
          "output_type": "stream",
          "name": "stdout",
          "text": [
            "Strumming the guitar!\n",
            "Playing the piano keys!\n"
          ]
        }
      ]
    },
    {
      "cell_type": "markdown",
      "source": [
        "7.**Create a class MathOperations with a class method add_numbers() to add two numbers and a static\n",
        "method subtract_numbers() to subtract two numbers.**"
      ],
      "metadata": {
        "id": "99ImROnsKcmU"
      }
    },
    {
      "cell_type": "code",
      "source": [
        "class MathOperations:\n",
        "    @classmethod\n",
        "    def add_numbers(cls, a, b):\n",
        "        \"\"\"Class method to add two numbers\"\"\"\n",
        "        return a + b\n",
        "\n",
        "    @staticmethod\n",
        "    def subtract_numbers(a, b):\n",
        "        \"\"\"Static method to subtract two numbers\"\"\"\n",
        "        return a - b\n",
        "\n",
        "# Using the class method\n",
        "sum_result = MathOperations.add_numbers(10, 5)\n",
        "print(f\"Sum: {sum_result}\")  # Output: Sum: 15\n",
        "\n",
        "# Using the static method\n",
        "difference_result = MathOperations.subtract_numbers(10, 5)\n",
        "print(f\"Difference: {difference_result}\")  # Output: Difference: 5\n"
      ],
      "metadata": {
        "colab": {
          "base_uri": "https://localhost:8080/"
        },
        "id": "qRx8Uu21KJXk",
        "outputId": "6e788423-6922-414f-e54b-1a5b93956c2f"
      },
      "execution_count": null,
      "outputs": [
        {
          "output_type": "stream",
          "name": "stdout",
          "text": [
            "Sum: 15\n",
            "Difference: 5\n"
          ]
        }
      ]
    },
    {
      "cell_type": "markdown",
      "source": [
        "15.**Create a class Product with attributes name, price, and quantity. Implement a method total_price() that\n",
        "calculates the total price of the product.**"
      ],
      "metadata": {
        "id": "JMj9YQMJKwqr"
      }
    },
    {
      "cell_type": "code",
      "source": [
        "class Product:\n",
        "    def __init__(self, name, price, quantity):\n",
        "        self.name = name\n",
        "        self.price = price\n",
        "        self.quantity = quantity\n",
        "\n",
        "    def total_price(self):\n",
        "        \"\"\"Calculates the total price of the product\"\"\"\n",
        "        return self.price * self.quantity\n",
        "\n",
        "# Creating an instance of Product\n",
        "product1 = Product(\"Laptop\", 800, 2)\n",
        "\n",
        "# Calculating and displaying the total price\n",
        "print(f\"Product: {product1.name}\")\n",
        "print(f\"Total Price: ${product1.total_price()}\")  # Output: Total Price: $1600\n"
      ],
      "metadata": {
        "colab": {
          "base_uri": "https://localhost:8080/"
        },
        "id": "I21kd8aYKv9n",
        "outputId": "7f9f300e-baee-47e7-9dee-7e53bd4715d3"
      },
      "execution_count": null,
      "outputs": [
        {
          "output_type": "stream",
          "name": "stdout",
          "text": [
            "Product: Laptop\n",
            "Total Price: $1600\n"
          ]
        }
      ]
    },
    {
      "cell_type": "markdown",
      "source": [
        "16.**Create a class Animal with an abstract method sound(). Create two derived classes Cow and Sheep that\n",
        "implement the sound() method.**"
      ],
      "metadata": {
        "id": "bNav_1UGLMm7"
      }
    },
    {
      "cell_type": "code",
      "source": [
        "from abc import ABC, abstractmethod\n",
        "\n",
        "# Abstract class\n",
        "class Animal(ABC):\n",
        "    @abstractmethod\n",
        "    def sound(self):\n",
        "        \"\"\"Abstract method to be implemented by subclasses\"\"\"\n",
        "        pass\n",
        "\n",
        "# Derived class: Cow\n",
        "class Cow(Animal):\n",
        "    def sound(self):\n",
        "        print(\"Cow says: Moo!\")\n",
        "\n",
        "# Derived class: Sheep\n",
        "class Sheep(Animal):\n",
        "    def sound(self):\n",
        "        print(\"Sheep says: Baa!\")\n",
        "\n",
        "# Creating instances\n",
        "cow = Cow()\n",
        "sheep = Sheep()\n",
        "\n",
        "# Calling the sound() method\n",
        "cow.sound()   # Output: Cow says: Moo!\n",
        "sheep.sound() # Output: Sheep says: Baa!\n"
      ],
      "metadata": {
        "colab": {
          "base_uri": "https://localhost:8080/"
        },
        "id": "opYN0HyDLLaX",
        "outputId": "2dd132c0-4059-4924-bcbb-b74383569504"
      },
      "execution_count": null,
      "outputs": [
        {
          "output_type": "stream",
          "name": "stdout",
          "text": [
            "Cow says: Moo!\n",
            "Sheep says: Baa!\n"
          ]
        }
      ]
    },
    {
      "cell_type": "markdown",
      "source": [
        "17.**Create a class Book with attributes title, author, and year_published. Add a method get_book_info() that\n",
        "returns a formatted string with the book's details**"
      ],
      "metadata": {
        "id": "pzxS2oNgLd55"
      }
    },
    {
      "cell_type": "code",
      "source": [
        "class Book:\n",
        "    def __init__(self, title, author, year_published):\n",
        "        self.title = title\n",
        "        self.author = author\n",
        "        self.year_published = year_published\n",
        "\n",
        "    def get_book_info(self):\n",
        "        \"\"\"Returns a formatted string with the book's details\"\"\"\n",
        "        return f\"'{self.title}' by {self.author}, published in {self.year_published}.\"\n",
        "\n",
        "# Creating an instance of Book\n",
        "book1 = Book(\"To Kill a Mockingbird\", \"Harper Lee\", 1960)\n",
        "\n",
        "# Displaying book details\n",
        "print(book1.get_book_info())  # Output: 'To Kill a Mockingbird' by Harper Lee, published in 1960.\n",
        "\n"
      ],
      "metadata": {
        "colab": {
          "base_uri": "https://localhost:8080/"
        },
        "id": "Ns8qKdRULc5R",
        "outputId": "7a54a6f6-8bee-462e-fc11-54edffd36298"
      },
      "execution_count": null,
      "outputs": [
        {
          "output_type": "stream",
          "name": "stdout",
          "text": [
            "'To Kill a Mockingbird' by Harper Lee, published in 1960.\n"
          ]
        }
      ]
    },
    {
      "cell_type": "markdown",
      "source": [
        "18.**Create a class House with attributes address and price. Create a derived class Mansion that adds an\n",
        "attribute number_of_rooms.**"
      ],
      "metadata": {
        "id": "dxFuYr9OLqUy"
      }
    },
    {
      "cell_type": "code",
      "source": [
        "# Base class\n",
        "class House:\n",
        "    def __init__(self, address, price):\n",
        "        self.address = address\n",
        "        self.price = price\n",
        "\n",
        "    def get_house_info(self):\n",
        "        \"\"\"Returns house details\"\"\"\n",
        "        return f\"House located at {self.address}, priced at ${self.price}.\"\n",
        "\n",
        "# Derived class\n",
        "class Mansion(House):\n",
        "    def __init__(self, address, price, number_of_rooms):\n",
        "        super().__init__(address, price)  # Call parent constructor\n",
        "        self.number_of_rooms = number_of_rooms\n",
        "\n",
        "    def get_mansion_info(self):\n",
        "        \"\"\"Returns mansion details\"\"\"\n",
        "        return f\"Mansion located at {self.address}, priced at ${self.price}, with {self.number_of_rooms} rooms.\"\n",
        "\n",
        "# Creating instances\n",
        "house1 = House(\"123 Main St\", 250000)\n",
        "mansion1 = Mansion(\"456 Luxury Ave\", 5000000, 10)\n",
        "\n",
        "# Displaying details\n",
        "print(house1.get_house_info())    # Output: House located at 123 Main St, priced at $250000.\n",
        "print(mansion1.get_mansion_info()) # Output: Mansion located at 456 Luxury Ave, priced at $5000000, with 10 rooms.\n"
      ],
      "metadata": {
        "colab": {
          "base_uri": "https://localhost:8080/"
        },
        "id": "bliYKZGPLpEg",
        "outputId": "026853b3-1a89-4443-bada-b88478d0ffd1"
      },
      "execution_count": null,
      "outputs": [
        {
          "output_type": "stream",
          "name": "stdout",
          "text": [
            "House located at 123 Main St, priced at $250000.\n",
            "Mansion located at 456 Luxury Ave, priced at $5000000, with 10 rooms.\n"
          ]
        }
      ]
    },
    {
      "cell_type": "code",
      "source": [],
      "metadata": {
        "id": "e50tFqHIMCKJ"
      },
      "execution_count": null,
      "outputs": []
    }
  ]
}